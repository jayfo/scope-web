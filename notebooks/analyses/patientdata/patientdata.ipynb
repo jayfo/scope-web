{
 "cells": [
  {
   "cell_type": "markdown",
   "id": "61593d0f-147b-4e8a-beaf-cd976cc6baee",
   "metadata": {
    "tags": []
   },
   "source": [
    "# Patient Data Export\n",
    "\n",
    "A notebook exporting patient data for study analyses."
   ]
  },
  {
   "cell_type": "markdown",
   "id": "a02e6585-0e45-4a7c-9b1a-69def1590cb7",
   "metadata": {
    "tags": []
   },
   "source": [
    "## Imports"
   ]
  },
  {
   "cell_type": "code",
   "execution_count": null,
   "id": "41a14340-9b0a-463e-a054-b5229a570e74",
   "metadata": {
    "tags": []
   },
   "outputs": [],
   "source": [
    "import dataclasses\n",
    "from enum import Enum\n",
    "import io\n",
    "import itertools\n",
    "import json\n",
    "import nbformat\n",
    "import operator\n",
    "import pandas as pd\n",
    "import pathlib\n",
    "import pyzipper\n",
    "import re\n",
    "from typing import List, Optional, Union\n",
    "\n",
    "from scope.documents import document_set\n",
    "from scope.populate.data.archive import Archive"
   ]
  },
  {
   "cell_type": "markdown",
   "id": "6286d4c9-06f8-4068-9ef7-71951a155c1b",
   "metadata": {},
   "source": [
    "## Utilities"
   ]
  },
  {
   "cell_type": "markdown",
   "id": "a0f4d93e-bb42-447f-bff5-b8bd29d0ce67",
   "metadata": {},
   "source": [
    "### Utility: excel_dataframe\n",
    "\n",
    "Returns bytes containing an Excel export of a dataframe.\n",
    "\n",
    "Intended to allow including the content of markdown cells as documentation in an export."
   ]
  },
  {
   "cell_type": "code",
   "execution_count": null,
   "id": "d03082f9-c850-4345-b975-b54edd8408f9",
   "metadata": {},
   "outputs": [],
   "source": [
    "def excel_dataframe(df: pd.DataFrame) -> bytes:\n",
    "    iobytes = io.BytesIO()\n",
    "    df.to_excel(iobytes, index=False)\n",
    "    \n",
    "    return iobytes.getvalue()"
   ]
  },
  {
   "cell_type": "markdown",
   "id": "99409d53-ba6c-41af-9709-9bc14f428bdd",
   "metadata": {},
   "source": [
    "### Utility: markdown_documentation\n",
    "\n",
    "Returns a string containing markdown content recovered from a cell in this notebook.\n",
    "\n",
    "Intended to allow including the content of markdown cells as documentation in an export."
   ]
  },
  {
   "cell_type": "code",
   "execution_count": null,
   "id": "aed34a35-5424-43fc-91a7-75c1de3eace5",
   "metadata": {},
   "outputs": [],
   "source": [
    "def markdown_documentation(documentation_name: str) -> str:\n",
    "    # Load this same notebook.\n",
    "    notebook = nbformat.read(\"patientdata.ipynb\", nbformat.NO_CONVERT)\n",
    "\n",
    "    # Go through each cell, looking for a match.\n",
    "    for cell_current in notebook[\"cells\"]:\n",
    "        match = True\n",
    "        if match:\n",
    "            match = cell_current[\"cell_type\"] == \"markdown\"\n",
    "        if match:\n",
    "            match = re.match(\n",
    "                \"^(#*) Documentation: ({})\\\\n(.*)\".format(documentation_name),\n",
    "                cell_current[\"source\"],\n",
    "            )\n",
    "\n",
    "        if match:\n",
    "            return cell_current[\"source\"]\n",
    "\n",
    "    # If no match was found, raise a ValueError.\n",
    "    raise ValueError(\n",
    "        \"No matching documentation cell found: {}\".format(documentation_name)\n",
    "    )"
   ]
  },
  {
   "cell_type": "markdown",
   "id": "380e33a0-8776-4709-9bfe-e7f3e64e5556",
   "metadata": {},
   "source": [
    "### Utility: patient_data_export_file\n",
    "\n",
    "The path and contents of a file to be exported."
   ]
  },
  {
   "cell_type": "code",
   "execution_count": null,
   "id": "8545241d-24f5-46c1-83ba-d393f27e4032",
   "metadata": {},
   "outputs": [],
   "source": [
    "class ExportFileType(Enum):\n",
    "    EXCEL = \"EXCEL\"\n",
    "    MARKDOWN = \"MARKDOWN\"\n",
    "\n",
    "\n",
    "@dataclasses.dataclass(frozen=True)\n",
    "class ExportFile:\n",
    "    path: pathlib.Path\n",
    "    type: ExportFileType\n",
    "    bytes: Optional[bytes]\n",
    "    text: Optional[str]\n",
    "\n",
    "    @classmethod\n",
    "    def from_excel(\n",
    "        cls,\n",
    "        path: Union[pathlib.Path, str],\n",
    "        excel: bytes,\n",
    "    ):\n",
    "        return ExportFile(\n",
    "            path=pathlib.Path(path),\n",
    "            type=ExportFileType.EXCEL,\n",
    "            bytes=excel,\n",
    "            text=None,\n",
    "        )\n",
    "\n",
    "    @classmethod\n",
    "    def from_markdown(\n",
    "        cls,\n",
    "        path: Union[pathlib.Path, str],\n",
    "        markdown: str,\n",
    "    ):\n",
    "        return ExportFile(\n",
    "            path=pathlib.Path(path),\n",
    "            type=ExportFileType.MARKDOWN,\n",
    "            bytes=None,\n",
    "            text=markdown,\n",
    "        )\n",
    "\n",
    "\n",
    "def patient_data_export_file(file: ExportFile):\n",
    "    patient_data_export_file_list.append(file)"
   ]
  },
  {
   "cell_type": "markdown",
   "id": "68bb2af0-4ce5-46e3-adc7-2b9c7d2fe10e",
   "metadata": {},
   "source": [
    "## Input"
   ]
  },
  {
   "cell_type": "markdown",
   "id": "ebe6a8f0-57ed-4d91-a97e-f21652c495d6",
   "metadata": {},
   "source": [
    "### Obtain Archive Suffix "
   ]
  },
  {
   "cell_type": "code",
   "execution_count": null,
   "id": "b42980a3-e834-44d8-8737-cdfdfa562b2a",
   "metadata": {
    "tags": []
   },
   "outputs": [],
   "source": [
    "# Obtain suffix indicating desired version of encrypted archives.\n",
    "# Do not include the '.zip' suffix.\n",
    "archive_suffix = input(\"Encrypted archive suffix: \")"
   ]
  },
  {
   "cell_type": "markdown",
   "id": "42c182cd-b385-4251-8c92-32bd4f985b44",
   "metadata": {},
   "source": [
    "### Obtain Archive Password "
   ]
  },
  {
   "cell_type": "code",
   "execution_count": null,
   "id": "03f7154a-6053-44d7-b6f4-504cfc4d0d17",
   "metadata": {
    "tags": []
   },
   "outputs": [],
   "source": [
    "# Obtain password to encrypted archives.\n",
    "archive_password = input(\"Encrypted archive password: \")"
   ]
  },
  {
   "cell_type": "markdown",
   "id": "44ff265d-ed78-49b9-981f-96aff3c79488",
   "metadata": {},
   "source": [
    "## Load Archives"
   ]
  },
  {
   "cell_type": "markdown",
   "id": "51623c25-8317-489a-ae4d-579e97684a21",
   "metadata": {},
   "source": [
    "### Decrypt Archives"
   ]
  },
  {
   "cell_type": "code",
   "execution_count": null,
   "id": "5bc41dd1-4a40-4256-8ba8-8c34486c1021",
   "metadata": {
    "tags": []
   },
   "outputs": [],
   "source": [
    "# Obtain full path to encrypted archives.\n",
    "\n",
    "# Start with name of each archive.\n",
    "archive_multicare_file_name = \"archive_multicare_{}.zip\".format(archive_suffix)\n",
    "archive_scca_file_name = \"archive_scca_{}.zip\".format(archive_suffix)\n",
    "\n",
    "# Obtain a full path to encrypted archive, relative to the location of the notebook.\n",
    "# Expects the encrypted archive to be in the \"secrets/data\" directory.\n",
    "archive_multicare_path = pathlib.Path(\n",
    "    \"../../../secrets/data\",\n",
    "    archive_multicare_file_name,\n",
    ")\n",
    "archive_scca_path = pathlib.Path(\n",
    "    \"../../../secrets/data\",\n",
    "    archive_scca_file_name,\n",
    ")"
   ]
  },
  {
   "cell_type": "code",
   "execution_count": null,
   "id": "547b0534-3a2a-4848-ab99-6532ca3b7676",
   "metadata": {
    "tags": []
   },
   "outputs": [],
   "source": [
    "print(\"Decrypting archive:\")\n",
    "print(\"{}\".format(archive_multicare_path.resolve()))\n",
    "\n",
    "# Obtain the archive.\n",
    "archive_multicare = Archive.read_archive(\n",
    "    archive_path=archive_multicare_path,\n",
    "    password=archive_password,\n",
    ")\n",
    "\n",
    "print(\"{} documents.\".format(len(archive_multicare.entries.values())))"
   ]
  },
  {
   "cell_type": "code",
   "execution_count": null,
   "id": "4cf23209-991b-48dd-bea2-402673763a28",
   "metadata": {
    "tags": []
   },
   "outputs": [],
   "source": [
    "print(\"Decrypting archive:\")\n",
    "print(\"{}\".format(archive_scca_path.resolve()))\n",
    "\n",
    "# Obtain the archive.\n",
    "archive_scca = Archive.read_archive(\n",
    "    archive_path=archive_scca_path,\n",
    "    password=archive_password,\n",
    ")\n",
    "\n",
    "print(\"{} documents.\".format(len(archive_scca.entries.values())))"
   ]
  },
  {
   "cell_type": "markdown",
   "id": "d7f73156-10d5-4019-970c-f02ea8b8dd5b",
   "metadata": {},
   "source": [
    "### Process Archives"
   ]
  },
  {
   "cell_type": "markdown",
   "id": "95f38ca9-122f-4d40-8270-69c3964418ea",
   "metadata": {},
   "source": [
    "#### Combined in Datatable"
   ]
  },
  {
   "cell_type": "code",
   "execution_count": null,
   "id": "a24e6366-e7b0-4f3c-812b-033905a4cc2c",
   "metadata": {
    "tags": []
   },
   "outputs": [],
   "source": [
    "# Get patient documents from MultiCare.\n",
    "documents_multicare_patients = (\n",
    "    archive_multicare.collection_documents(\n",
    "        collection=\"patients\",\n",
    "    )\n",
    "    .remove_sentinel()\n",
    "    .remove_revisions()\n",
    ")\n",
    "df_multicare_patients = pd.DataFrame.from_records(\n",
    "    documents_multicare_patients.documents\n",
    ")\n",
    "df_multicare_patients[\"database\"] = \"multicare\"\n",
    "\n",
    "# Get patient documents from SCCA.\n",
    "documents_scca_patients = (\n",
    "    archive_scca.collection_documents(\n",
    "        collection=\"patients\",\n",
    "    )\n",
    "    .remove_sentinel()\n",
    "    .remove_revisions()\n",
    ")\n",
    "df_scca_patients = pd.DataFrame.from_records(documents_scca_patients.documents)\n",
    "df_scca_patients[\"database\"] = \"fhcc\"\n",
    "\n",
    "# Unify all current patient documents.\n",
    "df_patients = pd.concat([df_multicare_patients, df_scca_patients]).reset_index(drop=True)"
   ]
  },
  {
   "cell_type": "markdown",
   "id": "de7038f7-35aa-4cdd-9024-e0247c118838",
   "metadata": {},
   "source": [
    "#### Filter Pilot Patients\n",
    "\n",
    "Remove the 6 pilot patients."
   ]
  },
  {
   "cell_type": "code",
   "execution_count": null,
   "id": "c09f432d-8e6b-4039-97da-fc2d9bef3dae",
   "metadata": {
    "tags": []
   },
   "outputs": [],
   "source": [
    "df_patients = df_patients.drop(\n",
    "    df_patients[\n",
    "        df_patients[\"patientId\"].isin(\n",
    "            [\n",
    "                \"ymzwx6e6w6kqi\",\n",
    "                \"mmmb54v52l7re\",\n",
    "                \"ouoa4ucldbhie\",\n",
    "                \"zazst4yu23a5q\",\n",
    "                \"wf4btxqjtd2oa\",\n",
    "                \"s3bcmgmp7gdss\",\n",
    "            ]\n",
    "        )\n",
    "    ].index\n",
    ").reset_index(drop=True)"
   ]
  },
  {
   "cell_type": "markdown",
   "id": "5bfcc533-1006-466d-aeee-d205cfbb2308",
   "metadata": {},
   "source": [
    "#### Utility: patient_documents"
   ]
  },
  {
   "cell_type": "code",
   "execution_count": null,
   "id": "e4c1dec2-f5aa-4869-8fa0-0656e9233426",
   "metadata": {
    "tags": []
   },
   "outputs": [],
   "source": [
    "# Create a helper for accessing the document collection of a unified patient.\n",
    "def patient_documents(row_patient) -> document_set.DocumentSet:\n",
    "    if row_patient[\"database\"] == \"multicare\":\n",
    "        archive = archive_multicare\n",
    "    elif row_patient[\"database\"] == \"fhcc\":\n",
    "        archive = archive_scca\n",
    "    else:\n",
    "        raise ValueError()\n",
    "\n",
    "    return archive.collection_documents(collection=row_patient[\"collection\"])"
   ]
  },
  {
   "cell_type": "markdown",
   "id": "adb3d9a0-e82a-4ec6-a3f4-c794317d0251",
   "metadata": {},
   "source": [
    "## Build Export"
   ]
  },
  {
   "cell_type": "markdown",
   "id": "b6a9dcfc-4682-4f23-ad20-ccdd91e38fb9",
   "metadata": {},
   "source": [
    "### Reset Export File List"
   ]
  },
  {
   "cell_type": "code",
   "execution_count": null,
   "id": "0ba90b7e-cb19-495b-8c80-57b12fc8c8d8",
   "metadata": {},
   "outputs": [],
   "source": [
    "patient_data_export_file_list: List[ExportFile] = []"
   ]
  },
  {
   "cell_type": "markdown",
   "id": "f43060c1-9fde-4d5b-a58e-34d8d32dffe0",
   "metadata": {},
   "source": [
    "### Documentation: Overall Export\n",
    "\n",
    "- Data is originally taken from two database exports: one from FHCC and one from MultiCare.\n",
    "- A \"database\" column is added to indicate the origin of each patient.\n",
    "- There were 6 pilot patients. These have been completely removed from the export. "
   ]
  },
  {
   "cell_type": "code",
   "execution_count": null,
   "id": "1b42cd64-be60-45e8-a69c-36b981be8f51",
   "metadata": {},
   "outputs": [],
   "source": [
    "patient_data_export_file(\n",
    "    ExportFile.from_markdown(\n",
    "        \"documentation.md\",\n",
    "        markdown_documentation(\"Overall Export\"),\n",
    "    )\n",
    ")"
   ]
  },
  {
   "cell_type": "markdown",
   "id": "88293103-38a8-4b65-9291-356641045206",
   "metadata": {},
   "source": [
    "### Documentation: Raw Export\n",
    "\n",
    "- Raw export files have not been organized or processed."
   ]
  },
  {
   "cell_type": "code",
   "execution_count": null,
   "id": "259f278c-2353-48a4-9d02-78d3f0cd90b1",
   "metadata": {},
   "outputs": [],
   "source": [
    "patient_data_export_file(\n",
    "    ExportFile.from_markdown(\n",
    "        \"raw.md\",\n",
    "        markdown_documentation(\"Raw Export\"),\n",
    "    )\n",
    ")\n",
    "\n",
    "patient_data_export_file(\n",
    "    ExportFile.from_excel(\n",
    "        \"raw.patients.xlsx\",\n",
    "        excel_dataframe(df_patients),\n",
    "    )\n",
    ")\n",
    "\n",
    "for patient_current in "
   ]
  },
  {
   "cell_type": "markdown",
   "id": "83807b0b-761c-451d-9890-44bbca8f7941",
   "metadata": {},
   "source": [
    "## Export"
   ]
  },
  {
   "cell_type": "code",
   "execution_count": null,
   "id": "d96e25a5-a095-42a2-bfc8-7f3de4ddb6ee",
   "metadata": {},
   "outputs": [],
   "source": [
    "# The export is stored in a single zip file\n",
    "with open(\n",
    "    \"export_{}.zip\".format(archive_suffix),\n",
    "    mode=\"xb\",\n",
    ") as archive_file:\n",
    "    with pyzipper.AESZipFile(\n",
    "        archive_file,\n",
    "        \"w\",\n",
    "        compression=pyzipper.ZIP_LZMA,\n",
    "        encryption=pyzipper.WZ_AES,\n",
    "    ) as archive_zipfile:\n",
    "        # Set the password\n",
    "        archive_zipfile.setpassword(archive_password.encode(\"utf-8\"))\n",
    "\n",
    "        for file_current in patient_data_export_file_list:\n",
    "            if file_current.type == ExportFileType.EXCEL:\n",
    "                archive_zipfile.writestr(\n",
    "                    str(file_current.path),\n",
    "                    file_current.bytes\n",
    "                )\n",
    "            elif file_current.type == ExportFileType.MARKDOWN:\n",
    "                archive_zipfile.writestr(\n",
    "                    str(file_current.path),\n",
    "                    file_current.text.encode(\"utf-8\")\n",
    "                )\n",
    "            else:\n",
    "                raise ValueError(\"Unknown ExportFileType\")"
   ]
  }
 ],
 "metadata": {
  "kernelspec": {
   "display_name": "Python 3 (ipykernel)",
   "language": "python",
   "name": "python3"
  },
  "language_info": {
   "codemirror_mode": {
    "name": "ipython",
    "version": 3
   },
   "file_extension": ".py",
   "mimetype": "text/x-python",
   "name": "python",
   "nbconvert_exporter": "python",
   "pygments_lexer": "ipython3",
   "version": "3.9.5"
  }
 },
 "nbformat": 4,
 "nbformat_minor": 5
}
