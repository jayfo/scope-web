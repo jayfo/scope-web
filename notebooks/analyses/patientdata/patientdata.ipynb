{
 "cells": [
  {
   "cell_type": "markdown",
   "id": "61593d0f-147b-4e8a-beaf-cd976cc6baee",
   "metadata": {
    "tags": []
   },
   "source": [
    "# Patient Data Export\n",
    "\n",
    "A notebook exporting patient data for study analyses."
   ]
  },
  {
   "cell_type": "markdown",
   "id": "a02e6585-0e45-4a7c-9b1a-69def1590cb7",
   "metadata": {
    "tags": []
   },
   "source": [
    "## Imports"
   ]
  },
  {
   "cell_type": "code",
   "execution_count": null,
   "id": "41a14340-9b0a-463e-a054-b5229a570e74",
   "metadata": {
    "tags": []
   },
   "outputs": [],
   "source": [
    "import io\n",
    "import itertools\n",
    "import json\n",
    "import nbformat\n",
    "import operator\n",
    "import pathlib\n",
    "\n",
    "import pandas as pd\n",
    "from scope.documents import document_set\n",
    "from scope.populate.data.archive import Archive"
   ]
  },
  {
   "cell_type": "markdown",
   "id": "6286d4c9-06f8-4068-9ef7-71951a155c1b",
   "metadata": {},
   "source": [
    "## Utilities"
   ]
  },
  {
   "cell_type": "markdown",
   "id": "99409d53-ba6c-41af-9709-9bc14f428bdd",
   "metadata": {},
   "source": [
    "### Documentation Utility\n",
    "\n",
    "This utility retrieves the content of markdown cells within this notebook.\n",
    "It is intended to allow including the content of those cells as documentation in the resulting export."
   ]
  },
  {
   "cell_type": "code",
   "execution_count": null,
   "id": "aed34a35-5424-43fc-91a7-75c1de3eace5",
   "metadata": {},
   "outputs": [],
   "source": [
    "def documentation_markdown(documentation_name):\n",
    "    # Load this same notebook.\n",
    "    notebook = nbformat.read(\"patientdata.ipynb\", nbformat.NO_CONVERT)\n",
    "\n",
    "    # Go through each cell, looking for a match.\n",
    "    for cell_current in notebook[\"cells\"]:\n",
    "        match = True\n",
    "        if match:\n",
    "            match = cell_current[\"cell_type\"] == \"markdown\"\n",
    "        if match:\n",
    "            match = cell_current[\"source\"].startswith(\"## Documentation: {}\\n\".format(documentation_name))\n",
    "        \n",
    "        if match:\n",
    "            return cell_current[\"source\"]\n",
    "\n",
    "    # If no match was found, raise a ValueError.\n",
    "    raise ValueError(\n",
    "        \"No matching documentation cell found: {}\".format(documentation_name)\n",
    "    )"
   ]
  },
  {
   "cell_type": "markdown",
   "id": "68bb2af0-4ce5-46e3-adc7-2b9c7d2fe10e",
   "metadata": {},
   "source": [
    "## Input"
   ]
  },
  {
   "cell_type": "markdown",
   "id": "ebe6a8f0-57ed-4d91-a97e-f21652c495d6",
   "metadata": {},
   "source": [
    "### Obtain Archive Suffix "
   ]
  },
  {
   "cell_type": "code",
   "execution_count": null,
   "id": "b42980a3-e834-44d8-8737-cdfdfa562b2a",
   "metadata": {
    "tags": []
   },
   "outputs": [],
   "source": [
    "# Obtain suffix indicating desired version of encrypted archives.\n",
    "# Do not include the '.zip' suffix.\n",
    "archive_suffix = input(\"Encrypted archive suffix: \")"
   ]
  },
  {
   "cell_type": "markdown",
   "id": "42c182cd-b385-4251-8c92-32bd4f985b44",
   "metadata": {},
   "source": [
    "### Obtain Archive Password "
   ]
  },
  {
   "cell_type": "code",
   "execution_count": null,
   "id": "03f7154a-6053-44d7-b6f4-504cfc4d0d17",
   "metadata": {
    "tags": []
   },
   "outputs": [],
   "source": [
    "# Obtain password to encrypted archives.\n",
    "archive_password = input(\"Encrypted archive password: \")"
   ]
  },
  {
   "cell_type": "markdown",
   "id": "44ff265d-ed78-49b9-981f-96aff3c79488",
   "metadata": {},
   "source": [
    "## Load Archives"
   ]
  },
  {
   "cell_type": "markdown",
   "id": "b6a9dcfc-4682-4f23-ad20-ccdd91e38fb9",
   "metadata": {},
   "source": [
    "### Documentation: Overall Export\n",
    "\n",
    "- Data is originally taken from two database exports: one from FHCC and one from MultiCare.\n",
    "- Data is then combined in a single datatable.\n",
    "- A \"database\" column is added to indicate the origin of each patient.\n",
    "- There were 6 pilot patients, these have been completely removed from the export. "
   ]
  },
  {
   "cell_type": "markdown",
   "id": "51623c25-8317-489a-ae4d-579e97684a21",
   "metadata": {},
   "source": [
    "### Decrypt Archives"
   ]
  },
  {
   "cell_type": "code",
   "execution_count": null,
   "id": "5bc41dd1-4a40-4256-8ba8-8c34486c1021",
   "metadata": {
    "tags": []
   },
   "outputs": [],
   "source": [
    "# Obtain full path to encrypted archives.\n",
    "\n",
    "# Start with name of each archive.\n",
    "archive_multicare_file_name = \"archive_multicare_{}.zip\".format(archive_suffix)\n",
    "archive_scca_file_name = \"archive_scca_{}.zip\".format(archive_suffix)\n",
    "\n",
    "# Obtain a full path to encrypted archive, relative to the location of the notebook.\n",
    "# Expects the encrypted archive to be in the \"secrets/data\" directory.\n",
    "archive_multicare_path = pathlib.Path(\n",
    "    \"../../../secrets/data\",\n",
    "    archive_multicare_file_name,\n",
    ")\n",
    "archive_scca_path = pathlib.Path(\n",
    "    \"../../../secrets/data\",\n",
    "    archive_scca_file_name,\n",
    ")"
   ]
  },
  {
   "cell_type": "code",
   "execution_count": null,
   "id": "547b0534-3a2a-4848-ab99-6532ca3b7676",
   "metadata": {
    "tags": []
   },
   "outputs": [],
   "source": [
    "print(\"Decrypting archive:\")\n",
    "print(\"{}\".format(archive_multicare_path.resolve()))\n",
    "\n",
    "# Obtain the archive.\n",
    "archive_multicare = Archive.read_archive(\n",
    "    archive_path=archive_multicare_path,\n",
    "    password=archive_password,\n",
    ")\n",
    "\n",
    "print(\"{} documents.\".format(len(archive_multicare.entries.values())))"
   ]
  },
  {
   "cell_type": "code",
   "execution_count": null,
   "id": "4cf23209-991b-48dd-bea2-402673763a28",
   "metadata": {
    "tags": []
   },
   "outputs": [],
   "source": [
    "print(\"Decrypting archive:\")\n",
    "print(\"{}\".format(archive_scca_path.resolve()))\n",
    "\n",
    "# Obtain the archive.\n",
    "archive_scca = Archive.read_archive(\n",
    "    archive_path=archive_scca_path,\n",
    "    password=archive_password,\n",
    ")\n",
    "\n",
    "print(\"{} documents.\".format(len(archive_scca.entries.values())))"
   ]
  },
  {
   "cell_type": "markdown",
   "id": "d7f73156-10d5-4019-970c-f02ea8b8dd5b",
   "metadata": {},
   "source": [
    "### Combined in Datatable"
   ]
  },
  {
   "cell_type": "code",
   "execution_count": null,
   "id": "a24e6366-e7b0-4f3c-812b-033905a4cc2c",
   "metadata": {
    "tags": []
   },
   "outputs": [],
   "source": [
    "# Get patient documents from MultiCare.\n",
    "documents_multicare_patients = (\n",
    "    archive_multicare.collection_documents(\n",
    "        collection=\"patients\",\n",
    "    )\n",
    "    .remove_sentinel()\n",
    "    .remove_revisions()\n",
    ")\n",
    "df_multicare_patients = pd.DataFrame.from_records(\n",
    "    documents_multicare_patients.documents\n",
    ")\n",
    "df_multicare_patients[\"database\"] = \"multicare\"\n",
    "\n",
    "# Get patient documents from SCCA.\n",
    "documents_scca_patients = (\n",
    "    archive_scca.collection_documents(\n",
    "        collection=\"patients\",\n",
    "    )\n",
    "    .remove_sentinel()\n",
    "    .remove_revisions()\n",
    ")\n",
    "df_scca_patients = pd.DataFrame.from_records(documents_scca_patients.documents)\n",
    "df_scca_patients[\"database\"] = \"fhcc\"\n",
    "\n",
    "# Unify all current patient documents.\n",
    "df_patients = pd.concat([df_multicare_patients, df_scca_patients]).reset_index()"
   ]
  },
  {
   "cell_type": "code",
   "execution_count": null,
   "id": "e4c1dec2-f5aa-4869-8fa0-0656e9233426",
   "metadata": {
    "tags": []
   },
   "outputs": [],
   "source": [
    "# Create a helper for accessing the document collection of a unified patient.\n",
    "def patient_documents(row_patient) -> document_set.DocumentSet:\n",
    "    if row_patient[\"database\"] == \"multicare\":\n",
    "        archive = archive_multicare\n",
    "    elif row_patient[\"database\"] == \"fhcc\":\n",
    "        archive = archive_scca\n",
    "    else:\n",
    "        raise ValueError()\n",
    "\n",
    "    return archive.collection_documents(collection=row_patient[\"collection\"])"
   ]
  },
  {
   "cell_type": "markdown",
   "id": "de7038f7-35aa-4cdd-9024-e0247c118838",
   "metadata": {},
   "source": [
    "### Filter Pilot Patients\n",
    "\n",
    "Remove the 6 pilot patients."
   ]
  },
  {
   "cell_type": "code",
   "execution_count": null,
   "id": "c09f432d-8e6b-4039-97da-fc2d9bef3dae",
   "metadata": {
    "tags": []
   },
   "outputs": [],
   "source": [
    "df_patients = df_patients.drop(\n",
    "    df_patients[\n",
    "        df_patients[\"patientId\"].isin(\n",
    "            [\n",
    "                \"ymzwx6e6w6kqi\",\n",
    "                \"mmmb54v52l7re\",\n",
    "                \"ouoa4ucldbhie\",\n",
    "                \"zazst4yu23a5q\",\n",
    "                \"wf4btxqjtd2oa\",\n",
    "                \"s3bcmgmp7gdss\",\n",
    "            ]\n",
    "        )\n",
    "    ].index\n",
    ").reset_index()"
   ]
  },
  {
   "cell_type": "markdown",
   "id": "adb3d9a0-e82a-4ec6-a3f4-c794317d0251",
   "metadata": {},
   "source": [
    "## Export"
   ]
  },
  {
   "cell_type": "code",
   "execution_count": null,
   "id": "b28bc4af-70a4-41c6-8609-2f41d3cffd57",
   "metadata": {},
   "outputs": [],
   "source": [
    "bytes = io.BytesIO()\n",
    "df_patients.to_excel(bytes)\n",
    "\n",
    "print(bytes)"
   ]
  },
  {
   "cell_type": "markdown",
   "id": "83807b0b-761c-451d-9890-44bbca8f7941",
   "metadata": {},
   "source": [
    "# Junk"
   ]
  },
  {
   "cell_type": "raw",
   "id": "ea29a636-7ffc-402a-bc09-bd1c2b63a389",
   "metadata": {},
   "source": [
    "# Summarize Patients"
   ]
  },
  {
   "cell_type": "raw",
   "id": "82937b43-f74e-479a-b098-b3ed2b3d33a5",
   "metadata": {
    "jupyter": {
     "source_hidden": true
    },
    "tags": []
   },
   "source": [
    "# Iterate over all raw documents to build a list of known document types.\n",
    "document_types = {\n",
    "    document_current[\"_type\"]\n",
    "    for document_current in itertools.chain(\n",
    "        archive_multicare.entries.values(),\n",
    "        archive_scca.entries.values(),\n",
    "    )\n",
    "}\n",
    "\n",
    "sorted(document_types)"
   ]
  },
  {
   "cell_type": "raw",
   "id": "4ab813f7-0a5f-43b6-99ca-96f249e50b9c",
   "metadata": {
    "tags": []
   },
   "source": [
    "def apply_num_documents(row_patient):\n",
    "    patient_collection = patient_documents(row_patient)\n",
    "    patient_collection = patient_collection.remove_sentinel()\n",
    "\n",
    "    # Overall number of unique documents.\n",
    "    # This includes revisions and even deletion markers.\n",
    "    row_patient[\"numDocumentRevisions\"] = len(patient_collection.documents)\n",
    "\n",
    "    # Group documents by their key.\n",
    "    # For singleton document types, this is the type.\n",
    "    # For set document types, this is the type plus the set id.\n",
    "    document_keys = patient_collection.group_revisions().keys()\n",
    "    row_patient[\"numDocuments\"] = len(document_keys)\n",
    "\n",
    "    # Calculate counts of certain document types.\n",
    "    # Because this is calculated using group_revisions(),\n",
    "    # it counts documents that may have evolved over time (including possible deletion).\n",
    "    DOCUMENT_COUNTS = [\n",
    "        (\"numActivityDocuments\", \"activity\"),\n",
    "        (\"numActivityLogDocuments\", \"activityLog\"),\n",
    "        (\"numAssessmentLogDocuments\", \"assessmentLog\"),\n",
    "        (\"numMoodLogDocuments\", \"moodLog\"),\n",
    "        (\"numValueDocuments\", \"value\"),\n",
    "    ]\n",
    "    for document_count_current in DOCUMENT_COUNTS:\n",
    "        row_patient[document_count_current[0]] = len(\n",
    "            [\n",
    "                key_current\n",
    "                for key_current in document_keys\n",
    "                if key_current[0] == document_count_current[1]\n",
    "            ]\n",
    "        )\n",
    "\n",
    "    return row_patient"
   ]
  },
  {
   "cell_type": "raw",
   "id": "bcaff19c-dc09-47a2-95b3-092db0d3c812",
   "metadata": {
    "tags": []
   },
   "source": [
    "df_patients = df_patients.apply(apply_num_documents, axis=\"columns\")"
   ]
  },
  {
   "cell_type": "raw",
   "id": "bd065bc3-5a54-46aa-8a5e-3b49c18ef9da",
   "metadata": {},
   "source": [
    "## Display Patients"
   ]
  },
  {
   "cell_type": "raw",
   "id": "7d0666db-c3a8-41ec-950f-64e45037c5c0",
   "metadata": {
    "tags": []
   },
   "source": [
    "with pd.option_context(\n",
    "    \"display.max_rows\",\n",
    "    None,\n",
    "    \"display.max_columns\",\n",
    "    None,\n",
    "    \"display.width\",\n",
    "    None,\n",
    "):\n",
    "    display(\n",
    "        df_patients.drop(\n",
    "            [\n",
    "                # Intentionally do not display patient names.\n",
    "                \"name\",\n",
    "            ],\n",
    "            axis=\"columns\",\n",
    "        )\n",
    "    )"
   ]
  },
  {
   "cell_type": "raw",
   "id": "46e4a6c1-6027-4fc9-9b7e-b3e1754b5a8f",
   "metadata": {},
   "source": [
    "## Output CSV"
   ]
  },
  {
   "cell_type": "raw",
   "id": "6d3a3605-bc9a-4fa0-8a5f-b6bf3ec6f957",
   "metadata": {
    "tags": []
   },
   "source": [
    "df_patients.drop(\n",
    "    [\n",
    "        # Intentionally do not export patient names.\n",
    "        \"name\",\n",
    "    ],\n",
    "    axis=\"columns\",\n",
    ").to_csv(\"patientsummary-export.csv\")"
   ]
  },
  {
   "cell_type": "raw",
   "id": "4f3f1d0a-c229-4637-b6a9-6768773f8153",
   "metadata": {},
   "source": [
    "## Filter Patient Columns\n",
    "\n",
    "Filter columns to those which are most relevant."
   ]
  },
  {
   "cell_type": "raw",
   "id": "df897cf2-5450-4eb6-b8d2-2dfa8126f74f",
   "metadata": {
    "tags": []
   },
   "source": [
    "# Filter columns.\n",
    "df_patients = df_patients[\n",
    "    [\n",
    "        \"database\",\n",
    "        \"patientId\",\n",
    "        \"collection\",\n",
    "        \"name\",\n",
    "    ]\n",
    "]"
   ]
  }
 ],
 "metadata": {
  "kernelspec": {
   "display_name": "Python 3 (ipykernel)",
   "language": "python",
   "name": "python3"
  },
  "language_info": {
   "codemirror_mode": {
    "name": "ipython",
    "version": 3
   },
   "file_extension": ".py",
   "mimetype": "text/x-python",
   "name": "python",
   "nbconvert_exporter": "python",
   "pygments_lexer": "ipython3",
   "version": "3.9.5"
  }
 },
 "nbformat": 4,
 "nbformat_minor": 5
}
